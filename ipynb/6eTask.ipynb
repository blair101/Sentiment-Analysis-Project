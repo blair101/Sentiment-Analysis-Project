{
 "cells": [
  {
   "cell_type": "code",
   "execution_count": 1,
   "metadata": {},
   "outputs": [],
   "source": [
    "import json\n",
    "import pandas as pd\n",
    "import ast\n",
    "import numpy as np\n",
    "\n",
    "def load_data_from_json(file_name):\n",
    "    file_data = open(file_name)\n",
    "    \n",
    "    list_data = []\n",
    "    while 1:\n",
    "        line = file_data.readline()\n",
    "        if not line:\n",
    "            break\n",
    "        sample_dict = ast.literal_eval(str(line).replace('\\n', ''))\n",
    "        list_data.append(sample_dict)\n",
    "    df = pd.DataFrame(list_data)\n",
    "    return df\n",
    "\n",
    "\n",
    "df_train = load_data_from_json('../data/train.json')\n",
    "x_train,y_train = df_train['sentence'],df_train['label']\n",
    "\n",
    "\n",
    "df_dev = load_data_from_json('../data/dev.json')\n",
    "x_dev,y_dev = df_dev['sentence'],df_dev['label']\n",
    "\n",
    "\n",
    "df_test = load_data_from_json('../data/test.json')\n",
    "x_test,y_test = df_test['sentence'],df_test['label']"
   ]
  },
  {
   "cell_type": "code",
   "execution_count": 2,
   "metadata": {},
   "outputs": [],
   "source": [
    "from sklearn.feature_extraction.text import TfidfVectorizer\n",
    "from sklearn.linear_model import LogisticRegression\n",
    "from sklearn.metrics import accuracy_score, auc, roc_auc_score\n",
    "from sklearn.externals import joblib\n",
    "\n",
    "\n",
    "\n",
    "vectorizer_word = TfidfVectorizer(max_features=40000,\n",
    "                                  min_df=5,\n",
    "                                  max_df=0.5,\n",
    "                                  analyzer='word',\n",
    "                                  stop_words='english',\n",
    "                                  ngram_range=(1, 2))\n",
    "\n",
    "vectorizer_word.fit(x_train)\n",
    "\n",
    "tfidf_matrix_word_train = vectorizer_word.transform(x_train)\n",
    "tfidf_matrix_word_dev = vectorizer_word.transform(x_dev)\n",
    "tfidf_matrix_word_test = vectorizer_word.transform(x_test)"
   ]
  },
  {
   "cell_type": "code",
   "execution_count": 3,
   "metadata": {},
   "outputs": [
    {
     "name": "stdout",
     "output_type": "stream",
     "text": [
      "convergence after 21 epochs took 0 seconds\n"
     ]
    },
    {
     "name": "stderr",
     "output_type": "stream",
     "text": [
      "[Parallel(n_jobs=1)]: Using backend SequentialBackend with 1 concurrent workers.\n",
      "[Parallel(n_jobs=1)]: Done   1 out of   1 | elapsed:    0.1s remaining:    0.0s\n",
      "[Parallel(n_jobs=1)]: Done   1 out of   1 | elapsed:    0.1s finished\n"
     ]
    },
    {
     "data": {
      "text/plain": [
       "LogisticRegression(C=1.0, class_weight=None, dual=False, fit_intercept=True,\n",
       "          intercept_scaling=1, max_iter=100, multi_class='warn',\n",
       "          n_jobs=None, penalty='l2', random_state=None, solver='sag',\n",
       "          tol=0.0001, verbose=2, warm_start=False)"
      ]
     },
     "execution_count": 3,
     "metadata": {},
     "output_type": "execute_result"
    }
   ],
   "source": [
    "lr_word = LogisticRegression(solver='sag', verbose=2)\n",
    "lr_word.fit(tfidf_matrix_word_train, y_train)"
   ]
  },
  {
   "cell_type": "code",
   "execution_count": 4,
   "metadata": {},
   "outputs": [
    {
     "name": "stdout",
     "output_type": "stream",
     "text": [
      "0.7385416666666667\n",
      "0.7401500938086304\n"
     ]
    }
   ],
   "source": [
    "y_pred_word_dev = lr_word.predict(tfidf_matrix_word_dev)\n",
    "print(accuracy_score(y_dev, y_pred_word_dev))\n",
    "\n",
    "y_pred_word_test = lr_word.predict(tfidf_matrix_word_test)\n",
    "print(accuracy_score(y_test, y_pred_word_test))"
   ]
  },
  {
   "cell_type": "code",
   "execution_count": 5,
   "metadata": {},
   "outputs": [
    {
     "data": {
      "text/plain": [
       "HBox(children=(IntProgress(value=0, max=8636), HTML(value='')))"
      ]
     },
     "metadata": {},
     "output_type": "display_data"
    },
    {
     "name": "stdout",
     "output_type": "stream",
     "text": [
      "\n"
     ]
    },
    {
     "name": "stderr",
     "output_type": "stream",
     "text": [
      "[Parallel(n_jobs=1)]: Using backend SequentialBackend with 1 concurrent workers.\n"
     ]
    },
    {
     "name": "stdout",
     "output_type": "stream",
     "text": [
      "convergence after 21 epochs took 0 seconds\n",
      "0.7552083333333334\n",
      "0.7570356472795498\n"
     ]
    },
    {
     "name": "stderr",
     "output_type": "stream",
     "text": [
      "[Parallel(n_jobs=1)]: Done   1 out of   1 | elapsed:    0.5s remaining:    0.0s\n",
      "[Parallel(n_jobs=1)]: Done   1 out of   1 | elapsed:    0.5s finished\n"
     ]
    }
   ],
   "source": [
    "from tqdm import tqdm,tqdm_notebook\n",
    "vectorizer_char = TfidfVectorizer(max_features=40000,\n",
    "                                  min_df=5,\n",
    "                                  max_df=0.5,\n",
    "                                  analyzer='char',\n",
    "                                  ngram_range=(1, 4))\n",
    "\n",
    "vectorizer_char.fit(tqdm_notebook(x_train));\n",
    "\n",
    "tfidf_matrix_char_train = vectorizer_char.transform(x_train)\n",
    "tfidf_matrix_char_dev = vectorizer_char.transform(x_dev)\n",
    "tfidf_matrix_char_test = vectorizer_char.transform(x_test)\n",
    "\n",
    "\n",
    "lr_char = LogisticRegression(solver='sag', verbose=2)\n",
    "lr_char.fit(tfidf_matrix_char_train, y_train)\n",
    "\n",
    "y_pred_char_dev = lr_char.predict(tfidf_matrix_char_dev)\n",
    "print(accuracy_score(y_dev, y_pred_char_dev))\n",
    "\n",
    "y_pred_char_test = lr_char.predict(tfidf_matrix_char_test)\n",
    "print(accuracy_score(y_test, y_pred_char_test))"
   ]
  },
  {
   "cell_type": "code",
   "execution_count": 6,
   "metadata": {},
   "outputs": [
    {
     "name": "stderr",
     "output_type": "stream",
     "text": [
      "[Parallel(n_jobs=1)]: Using backend SequentialBackend with 1 concurrent workers.\n"
     ]
    },
    {
     "name": "stdout",
     "output_type": "stream",
     "text": [
      "convergence after 24 epochs took 1 seconds\n",
      "0.7625\n",
      "0.775797373358349\n"
     ]
    },
    {
     "name": "stderr",
     "output_type": "stream",
     "text": [
      "[Parallel(n_jobs=1)]: Done   1 out of   1 | elapsed:    0.6s remaining:    0.0s\n",
      "[Parallel(n_jobs=1)]: Done   1 out of   1 | elapsed:    0.6s finished\n"
     ]
    }
   ],
   "source": [
    "import scipy\n",
    "from scipy.sparse import hstack\n",
    "\n",
    "tfidf_matrix_word_char_train = hstack((tfidf_matrix_word_train, tfidf_matrix_char_train))\n",
    "tfidf_matrix_word_char_dev = hstack((tfidf_matrix_word_dev, tfidf_matrix_char_dev))\n",
    "tfidf_matrix_word_char_test = hstack((tfidf_matrix_word_test, tfidf_matrix_char_test))\n",
    "\n",
    "\n",
    "lr_word_char = LogisticRegression(solver='sag', verbose=2)\n",
    "lr_word_char.fit(tfidf_matrix_word_char_train, y_train)\n",
    "\n",
    "y_pred_word_char_dev = lr_word_char.predict(tfidf_matrix_word_char_dev)\n",
    "print(accuracy_score(y_dev, y_pred_word_char_dev))\n",
    "\n",
    "\n",
    "y_pred_word_char_test = lr_word_char.predict(tfidf_matrix_word_char_test)\n",
    "print(accuracy_score(y_test, y_pred_word_char_test))"
   ]
  },
  {
   "cell_type": "code",
   "execution_count": 7,
   "metadata": {},
   "outputs": [
    {
     "name": "stderr",
     "output_type": "stream",
     "text": [
      "Using TensorFlow backend.\n"
     ]
    }
   ],
   "source": [
    "from keras.preprocessing.text import Tokenizer\n",
    "from keras.preprocessing.text import text_to_word_sequence\n",
    "from keras.preprocessing.sequence import pad_sequences\n",
    "\n",
    "from keras.models import Model\n",
    "from keras.models import Sequential\n",
    "\n",
    "from keras.layers import Input, Dense, Embedding, Conv1D, Conv2D, MaxPooling1D, MaxPool2D\n",
    "from keras.layers import Reshape, Flatten, Dropout, Concatenate\n",
    "from keras.layers import SpatialDropout1D, concatenate\n",
    "from keras.layers import GRU, Bidirectional, GlobalAveragePooling1D, GlobalMaxPooling1D\n",
    "\n",
    "from keras.callbacks import Callback\n",
    "from keras.optimizers import Adam\n",
    "\n",
    "from keras.callbacks import ModelCheckpoint, EarlyStopping\n",
    "from keras.models import load_model\n",
    "from keras.utils.vis_utils import plot_model\n",
    "\n",
    "\n",
    "MAX_NB_WORDS = 40000\n",
    "tokenizer = Tokenizer(num_words=MAX_NB_WORDS)\n",
    "tokenizer.fit_on_texts(list(x_train)+list(x_dev))"
   ]
  },
  {
   "cell_type": "code",
   "execution_count": 8,
   "metadata": {},
   "outputs": [],
   "source": [
    "data_all = list(x_train)+list(x_dev)\n",
    "data_all_lens = [len(str(data_i).split()) for data_i in data_all  ]"
   ]
  },
  {
   "cell_type": "code",
   "execution_count": 48,
   "metadata": {},
   "outputs": [
    {
     "name": "stderr",
     "output_type": "stream",
     "text": [
      "/Users/blair/.pyenv/versions/aic/lib/python3.5/site-packages/matplotlib/axes/_axes.py:6521: MatplotlibDeprecationWarning: \n",
      "The 'normed' kwarg was deprecated in Matplotlib 2.1 and will be removed in 3.1. Use 'density' instead.\n",
      "  alternative=\"'density'\", removal=\"3.1\")\n"
     ]
    },
    {
     "data": {
      "image/png": "[encoded data removed]",
      "text/plain": [
       "<Figure size 864x576 with 1 Axes>"
      ]
     },
     "metadata": {
      "needs_background": "light"
     },
     "output_type": "display_data"
    }
   ],
   "source": [
    "import matplotlib as mpl\n",
    "import matplotlib.pyplot as plt\n",
    "\n",
    "plt.figure(figsize=(12, 8))\n",
    "plt.hist(data_all_lens, bins=100, range=[0, 100], normed=True, label='data_all')\n",
    "plt.title('words count in text', fontsize=15)\n",
    "plt.legend()\n",
    "plt.xlabel('Number of words', fontsize=15)\n",
    "plt.ylabel('Probability', fontsize=15)\n",
    "plt.show()\n"
   ]
  },
  {
   "cell_type": "code",
   "execution_count": 12,
   "metadata": {},
   "outputs": [],
   "source": [
    "train_sequences = tokenizer.texts_to_sequences(x_train)\n",
    "dev_sequences = tokenizer.texts_to_sequences(x_dev)\n",
    "test_sequences = tokenizer.texts_to_sequences(x_test)\n",
    "\n",
    "\n",
    "MAX_LENGTH = 50\n",
    "padded_train_sequences = pad_sequences(train_sequences, maxlen=MAX_LENGTH)\n",
    "padded_dev_sequences = pad_sequences(dev_sequences, maxlen=MAX_LENGTH)\n",
    "padded_test_sequences = pad_sequences(test_sequences, maxlen=MAX_LENGTH)"
   ]
  },
  {
   "cell_type": "code",
   "execution_count": 13,
   "metadata": {},
   "outputs": [
    {
     "data": {
      "text/plain": [
       "(8636, 50)"
      ]
     },
     "execution_count": 13,
     "metadata": {},
     "output_type": "execute_result"
    }
   ],
   "source": [
    "padded_train_sequences.shape"
   ]
  },
  {
   "cell_type": "code",
   "execution_count": 14,
   "metadata": {},
   "outputs": [],
   "source": [
    "def get_simple_rnn_model():\n",
    "    embedding_dim = 300\n",
    "    embedding_matrix = np.random.random((MAX_NB_WORDS, embedding_dim))\n",
    "\n",
    "    inp = Input(shape=(MAX_LENGTH,))\n",
    "    \n",
    "    x = Embedding(input_dim=MAX_NB_WORDS, output_dim=embedding_dim, input_length=MAX_LENGTH,\n",
    "                  weights=[embedding_matrix], trainable=True)(inp)\n",
    "    \n",
    "    x = SpatialDropout1D(0.3)(x)\n",
    "    x = Bidirectional(GRU(100, return_sequences=True))(x)\n",
    "    \n",
    "    avg_pool = GlobalAveragePooling1D()(x)\n",
    "    max_pool = GlobalMaxPooling1D()(x)\n",
    "    \n",
    "    conc = concatenate([avg_pool, max_pool])\n",
    "    \n",
    "    outp = Dense(1, activation=\"sigmoid\")(conc)\n",
    "\n",
    "    model = Model(inputs=inp, outputs=outp)\n",
    "    \n",
    "    model.compile(loss='binary_crossentropy',\n",
    "                  optimizer='adam',\n",
    "                  metrics=['accuracy'])\n",
    "    return model\n",
    "\n",
    "\n",
    "rnn_simple_model = get_simple_rnn_model()"
   ]
  },
  {
   "cell_type": "code",
   "execution_count": 16,
   "metadata": {},
   "outputs": [
    {
     "name": "stdout",
     "output_type": "stream",
     "text": [
      "Train on 8636 samples, validate on 960 samples\n",
      "Epoch 1/10\n",
      "8636/8636 [==============================] - 27s 3ms/step - loss: 0.7044 - acc: 0.5139 - val_loss: 0.6811 - val_acc: 0.5615\n",
      "\n",
      "Epoch 00001: val_acc improved from -inf to 0.56146, saving model to ../model/non_embedding-weights-improvement-01-0.5615.hdf5\n",
      "Epoch 2/10\n",
      "8636/8636 [==============================] - 27s 3ms/step - loss: 0.6793 - acc: 0.5672 - val_loss: 0.6706 - val_acc: 0.5604\n",
      "\n",
      "Epoch 00002: val_acc did not improve from 0.56146\n",
      "Epoch 3/10\n",
      "8636/8636 [==============================] - 29s 3ms/step - loss: 0.6576 - acc: 0.6106 - val_loss: 0.6368 - val_acc: 0.6646\n",
      "\n",
      "Epoch 00003: val_acc improved from 0.56146 to 0.66458, saving model to ../model/non_embedding-weights-improvement-03-0.6646.hdf5\n",
      "Epoch 4/10\n",
      "8636/8636 [==============================] - 29s 3ms/step - loss: 0.6220 - acc: 0.6759 - val_loss: 0.6096 - val_acc: 0.6750\n",
      "\n",
      "Epoch 00004: val_acc improved from 0.66458 to 0.67500, saving model to ../model/non_embedding-weights-improvement-04-0.6750.hdf5\n",
      "Epoch 5/10\n",
      "8636/8636 [==============================] - 28s 3ms/step - loss: 0.5759 - acc: 0.7255 - val_loss: 0.5770 - val_acc: 0.7052\n",
      "\n",
      "Epoch 00005: val_acc improved from 0.67500 to 0.70521, saving model to ../model/non_embedding-weights-improvement-05-0.7052.hdf5\n",
      "Epoch 6/10\n",
      "8636/8636 [==============================] - 28s 3ms/step - loss: 0.5251 - acc: 0.7642 - val_loss: 0.5685 - val_acc: 0.6802\n",
      "\n",
      "Epoch 00006: val_acc did not improve from 0.70521\n",
      "Epoch 7/10\n",
      "8636/8636 [==============================] - 31s 4ms/step - loss: 0.4654 - acc: 0.7989 - val_loss: 0.5312 - val_acc: 0.7354\n",
      "\n",
      "Epoch 00007: val_acc improved from 0.70521 to 0.73542, saving model to ../model/non_embedding-weights-improvement-07-0.7354.hdf5\n",
      "Epoch 8/10\n",
      "8636/8636 [==============================] - 29s 3ms/step - loss: 0.4091 - acc: 0.8335 - val_loss: 0.5445 - val_acc: 0.7094\n",
      "\n",
      "Epoch 00008: val_acc did not improve from 0.73542\n",
      "Epoch 9/10\n",
      "8636/8636 [==============================] - 32s 4ms/step - loss: 0.3530 - acc: 0.8608 - val_loss: 0.5203 - val_acc: 0.7302\n",
      "\n",
      "Epoch 00009: val_acc did not improve from 0.73542\n",
      "Epoch 10/10\n",
      "8636/8636 [==============================] - 34s 4ms/step - loss: 0.2995 - acc: 0.8891 - val_loss: 0.5547 - val_acc: 0.7281\n",
      "\n",
      "Epoch 00010: val_acc did not improve from 0.73542\n"
     ]
    }
   ],
   "source": [
    "filepath = \"../model/non_embedding-weights-improvement-{epoch:02d}-{val_acc:.4f}.hdf5\"\n",
    "checkpoint = ModelCheckpoint(filepath, monitor='val_acc', verbose=1, save_best_only=True,\n",
    " mode='max')\n",
    "\n",
    "batch_size = 256\n",
    "epochs = 10\n",
    "\n",
    "history = rnn_simple_model.fit(x=padded_train_sequences,\n",
    "                               y=y_train,\n",
    "                               validation_data=(padded_dev_sequences, y_dev),\n",
    "                               batch_size=batch_size,\n",
    "                               callbacks=[checkpoint],\n",
    "                               epochs=epochs,\n",
    "                               verbose=1)"
   ]
  },
  {
   "cell_type": "markdown",
   "metadata": {},
   "source": [
    "## 导入rnn_simple_model中最好的一个，进行预测"
   ]
  },
  {
   "cell_type": "code",
   "execution_count": 19,
   "metadata": {},
   "outputs": [
    {
     "name": "stdout",
     "output_type": "stream",
     "text": [
      "1066/1066 [==============================] - 1s 1ms/step\n"
     ]
    },
    {
     "data": {
      "text/plain": [
       "0.7204502814258912"
      ]
     },
     "execution_count": 19,
     "metadata": {},
     "output_type": "execute_result"
    }
   ],
   "source": [
    "best_rnn_simple_model = load_model('../model/non_embedding-weights-improvement-07-0.7354.hdf5')\n",
    "\n",
    "y_pred_rnn_simple = best_rnn_simple_model.predict(padded_test_sequences, verbose=1, batch_size=128)\n",
    "\n",
    "y_pred_rnn_simple = pd.DataFrame(y_pred_rnn_simple, columns=['prediction'])\n",
    "\n",
    "y_pred_rnn_simple['prediction'] = y_pred_rnn_simple['prediction'].map(lambda p: 1 if p >= 0.5 else 0)\n",
    "\n",
    "y_pred_rnn_simple.to_csv('../model/y_pred_rnn_simple.csv', index=False)\n",
    "\n",
    "y_pred_rnn_simple = pd.read_csv('../model/y_pred_rnn_simple.csv')\n",
    "\n",
    "accuracy_score(y_test, y_pred_rnn_simple)"
   ]
  },
  {
   "cell_type": "markdown",
   "metadata": {},
   "source": [
    "## 5. glove rnn model"
   ]
  },
  {
   "cell_type": "code",
   "execution_count": 23,
   "metadata": {},
   "outputs": [
    {
     "data": {
      "text/plain": [
       "HBox(children=(IntProgress(value=1, bar_style='info', max=1), HTML(value='')))"
      ]
     },
     "metadata": {},
     "output_type": "display_data"
    },
    {
     "name": "stdout",
     "output_type": "stream",
     "text": [
      "\n"
     ]
    },
    {
     "data": {
      "text/plain": [
       "HBox(children=(IntProgress(value=0, max=18254), HTML(value='')))"
      ]
     },
     "metadata": {},
     "output_type": "display_data"
    },
    {
     "name": "stdout",
     "output_type": "stream",
     "text": [
      "\n"
     ]
    }
   ],
   "source": [
    "\n",
    "def get_coefs(word, *arr):\n",
    "    try:\n",
    "        return word, np.asarray(arr, dtype='float32')\n",
    "    except:\n",
    "        return None, None\n",
    "\n",
    "\n",
    "embeddings_index = dict(get_coefs(*o.strip().split()) for o in tqdm_notebook(\n",
    "        open('../data/glove.840B.300d.txt')))\n",
    "\n",
    "embed_size = 300\n",
    "\n",
    "for k in tqdm_notebook(list(embeddings_index.keys())):\n",
    "    v = embeddings_index[k]\n",
    "    try:\n",
    "        if v.shape != (embed_size,):\n",
    "            embeddings_index.pop(k)\n",
    "    except:\n",
    "        pass"
   ]
  },
  {
   "cell_type": "code",
   "execution_count": 24,
   "metadata": {},
   "outputs": [
    {
     "data": {
      "text/plain": [
       "HBox(children=(IntProgress(value=0, max=18521), HTML(value='')))"
      ]
     },
     "metadata": {},
     "output_type": "display_data"
    },
    {
     "name": "stdout",
     "output_type": "stream",
     "text": [
      "\n",
      "2435\n"
     ]
    }
   ],
   "source": [
    "values = list(embeddings_index.values())\n",
    "all_embs = np.stack(values)\n",
    "\n",
    "emb_mean, emb_std = all_embs.mean(), all_embs.std()\n",
    "word_index = tokenizer.word_index\n",
    "nb_words = MAX_NB_WORDS\n",
    "embedding_matrix = np.random.normal(emb_mean, emb_std, (nb_words, embed_size))\n",
    "\n",
    "oov = 0\n",
    "for word, i in tqdm_notebook(word_index.items()):\n",
    "    if i >= MAX_NB_WORDS: continue\n",
    "    embedding_vector = embeddings_index.get(word)\n",
    "    if embedding_vector is not None:\n",
    "        embedding_matrix[i] = embedding_vector\n",
    "    else:\n",
    "        oov += 1\n",
    "\n",
    "print(oov)\n",
    "\n",
    "\n",
    "def get_rnn_model_with_glove_embeddings():\n",
    "    \n",
    "    embedding_dim = 300\n",
    "    \n",
    "    inp = Input(shape=(MAX_LENGTH,))\n",
    "    \n",
    "    x = Embedding(MAX_NB_WORDS, embedding_dim, weights=[embedding_matrix], \n",
    "input_length=MAX_LENGTH, trainable=True)(inp)\n",
    "    \n",
    "    x = SpatialDropout1D(0.3)(x)\n",
    "    x = Bidirectional(GRU(100, return_sequences=True))(x)\n",
    "    \n",
    "    avg_pool = GlobalAveragePooling1D()(x)\n",
    "    max_pool = GlobalMaxPooling1D()(x)\n",
    "    \n",
    "    conc = concatenate([avg_pool, max_pool])\n",
    "    \n",
    "    outp = Dense(1, activation=\"sigmoid\")(conc)\n",
    "\n",
    "    model = Model(inputs=inp, outputs=outp)\n",
    "    \n",
    "    model.compile(loss='binary_crossentropy',\n",
    "                  optimizer='adam',\n",
    "                  metrics=['accuracy'])\n",
    "    return model\n",
    "\n",
    "\n",
    "rnn_model_with_embeddings = get_rnn_model_with_glove_embeddings()"
   ]
  },
  {
   "cell_type": "code",
   "execution_count": 28,
   "metadata": {},
   "outputs": [
    {
     "name": "stdout",
     "output_type": "stream",
     "text": [
      "Train on 8636 samples, validate on 960 samples\n",
      "Epoch 1/5\n",
      "8636/8636 [==============================] - 31s 4ms/step - loss: 0.0229 - acc: 0.9922 - val_loss: 1.0539 - val_acc: 0.7563\n",
      "\n",
      "Epoch 00001: val_acc improved from -inf to 0.75625, saving model to ../model/rnn_glove_embedding-weights-improvement-01-0.7563.hdf5\n",
      "Epoch 2/5\n",
      "8636/8636 [==============================] - 30s 4ms/step - loss: 0.0201 - acc: 0.9939 - val_loss: 1.1487 - val_acc: 0.7531\n",
      "\n",
      "Epoch 00002: val_acc did not improve from 0.75625\n",
      "Epoch 3/5\n",
      "8636/8636 [==============================] - 33s 4ms/step - loss: 0.0184 - acc: 0.9943 - val_loss: 1.2128 - val_acc: 0.7521\n",
      "\n",
      "Epoch 00003: val_acc did not improve from 0.75625\n",
      "Epoch 4/5\n",
      "8636/8636 [==============================] - 33s 4ms/step - loss: 0.0183 - acc: 0.9934 - val_loss: 1.1407 - val_acc: 0.7594\n",
      "\n",
      "Epoch 00004: val_acc improved from 0.75625 to 0.75938, saving model to ../model/rnn_glove_embedding-weights-improvement-04-0.7594.hdf5\n",
      "Epoch 5/5\n",
      "8636/8636 [==============================] - 33s 4ms/step - loss: 0.0149 - acc: 0.9953 - val_loss: 1.1952 - val_acc: 0.7646\n",
      "\n",
      "Epoch 00005: val_acc improved from 0.75938 to 0.76458, saving model to ../model/rnn_glove_embedding-weights-improvement-05-0.7646.hdf5\n"
     ]
    }
   ],
   "source": [
    "filepath = \"../model/rnn_glove_embedding-weights-improvement-{epoch:02d}-{val_acc:.4f}.hdf5\"\n",
    "checkpoint = ModelCheckpoint(filepath, monitor='val_acc', verbose=1, save_best_only=True, mode='max')\n",
    "\n",
    "batch_size = 256\n",
    "epochs = 5\n",
    "\n",
    "history = rnn_model_with_embeddings.fit(x=padded_train_sequences,\n",
    "                            y=y_train,\n",
    "                            validation_data=(padded_dev_sequences, y_dev),\n",
    "                            batch_size=batch_size,\n",
    "                                        callbacks=[checkpoint],\n",
    "                                        epochs=epochs,\n",
    "                                        verbose=1)"
   ]
  },
  {
   "cell_type": "markdown",
   "metadata": {},
   "source": [
    "###  导入 glove rnn model 中最好的一个，进行预测"
   ]
  },
  {
   "cell_type": "code",
   "execution_count": 29,
   "metadata": {},
   "outputs": [
    {
     "name": "stdout",
     "output_type": "stream",
     "text": [
      "1066/1066 [==============================] - 1s 1ms/step\n"
     ]
    },
    {
     "data": {
      "text/plain": [
       "0.799249530956848"
      ]
     },
     "execution_count": 29,
     "metadata": {},
     "output_type": "execute_result"
    }
   ],
   "source": [
    "best_rnn_model_with_glove_embeddings = load_model('../model/rnn_glove_embedding-weights-improvement-01-0.7906.hdf5')\n",
    "\n",
    "y_pred_rnn_with_glove_embeddings = best_rnn_model_with_glove_embeddings.predict(\n",
    "    padded_test_sequences, verbose=1, batch_size=128)\n",
    "\n",
    "y_pred_rnn_with_glove_embeddings = pd.DataFrame(y_pred_rnn_with_glove_embeddings, columns=['prediction'])\n",
    "\n",
    "y_pred_rnn_with_glove_embeddings['prediction'] = y_pred_rnn_with_glove_embeddings['prediction'].map(lambda p:1 if p >= 0.5 else 0)\n",
    "y_pred_rnn_with_glove_embeddings.to_csv('../model/y_pred_rnn_with_glove_embeddings.csv', index=False)\n",
    "\n",
    "y_pred_rnn_with_glove_embeddings = pd.read_csv('../model/y_pred_rnn_with_glove_embeddings.csv')\n",
    "\n",
    "accuracy_score(y_test, y_pred_rnn_with_glove_embeddings)"
   ]
  },
  {
   "cell_type": "markdown",
   "metadata": {},
   "source": [
    "## 6. cnn model"
   ]
  },
  {
   "cell_type": "code",
   "execution_count": 31,
   "metadata": {},
   "outputs": [],
   "source": [
    "def get_cnn_model():\n",
    "    embedding_dim = 300\n",
    "\n",
    "    filter_sizes = [2, 3, 5]\n",
    "    num_filters = 256\n",
    "    drop = 0.3\n",
    "\n",
    "    inputs = Input(shape=(MAX_LENGTH,), dtype='int32')\n",
    "    \n",
    "    embedding = Embedding(input_dim=MAX_NB_WORDS,\n",
    "                          output_dim=embedding_dim,\n",
    "                          weights=[embedding_matrix],\n",
    "                          input_length=MAX_LENGTH,\n",
    "                          trainable=True)(inputs)\n",
    "\n",
    "    reshape = Reshape((MAX_LENGTH, embedding_dim, 1))(embedding)\n",
    "    \n",
    "    conv_0 = Conv2D(num_filters,\n",
    "                    kernel_size=(filter_sizes[0], embedding_dim),\n",
    "                    padding='valid', kernel_initializer='normal',\n",
    "                    activation='relu')(reshape)\n",
    "\n",
    "    conv_1 = Conv2D(num_filters,\n",
    "                    kernel_size=(filter_sizes[1], embedding_dim),\n",
    "                    padding='valid', kernel_initializer='normal',\n",
    "                    activation='relu')(reshape)\n",
    "    conv_2 = Conv2D(num_filters,\n",
    "                    kernel_size=(filter_sizes[2], embedding_dim),\n",
    "                    padding='valid', kernel_initializer='normal',\n",
    "                    activation='relu')(reshape)\n",
    "\n",
    "    maxpool_0 = MaxPool2D(pool_size=(MAX_LENGTH - filter_sizes[0] + 1, 1),\n",
    "                          strides=(1, 1), padding='valid')(conv_0)\n",
    "\n",
    "    maxpool_1 = MaxPool2D(pool_size=(MAX_LENGTH - filter_sizes[1] + 1, 1),\n",
    "                          strides=(1, 1), padding='valid')(conv_1)\n",
    "\n",
    "    maxpool_2 = MaxPool2D(pool_size=(MAX_LENGTH - filter_sizes[2] + 1, 1),\n",
    "                          strides=(1, 1), padding='valid')(conv_2)\n",
    "    concatenated_tensor = Concatenate(axis=1)(\n",
    "        [maxpool_0, maxpool_1, maxpool_2])\n",
    "    flatten = Flatten()(concatenated_tensor)\n",
    "    dropout = Dropout(drop)(flatten)\n",
    "    output = Dense(units=1, activation='sigmoid')(dropout)\n",
    "\n",
    "    model = Model(inputs=inputs, outputs=output)\n",
    "    adam = Adam(lr=1e-4, beta_1=0.9, beta_2=0.999, epsilon=1e-08, decay=0.0)\n",
    "\n",
    "    model.compile(optimizer=adam, loss='binary_crossentropy', metrics=['accuracy'])\n",
    "\n",
    "    return model\n",
    "\n",
    "\n",
    "cnn_model_multi_channel = get_cnn_model()"
   ]
  },
  {
   "cell_type": "code",
   "execution_count": 33,
   "metadata": {},
   "outputs": [
    {
     "name": "stdout",
     "output_type": "stream",
     "text": [
      "Train on 8636 samples, validate on 960 samples\n",
      "Epoch 1/10\n",
      "8636/8636 [==============================] - 37s 4ms/step - loss: 0.5116 - acc: 0.7455 - val_loss: 0.4973 - val_acc: 0.7458\n",
      "\n",
      "Epoch 00001: val_acc improved from -inf to 0.74583, saving model to ../model/cnn-weights-improvement-01-0.7458.hdf5\n",
      "Epoch 2/10\n",
      "8636/8636 [==============================] - 39s 4ms/step - loss: 0.4835 - acc: 0.7637 - val_loss: 0.4863 - val_acc: 0.7531\n",
      "\n",
      "Epoch 00002: val_acc improved from 0.74583 to 0.75313, saving model to ../model/cnn-weights-improvement-02-0.7531.hdf5\n",
      "Epoch 3/10\n",
      "8636/8636 [==============================] - 37s 4ms/step - loss: 0.4513 - acc: 0.7890 - val_loss: 0.4786 - val_acc: 0.7490\n",
      "\n",
      "Epoch 00003: val_acc did not improve from 0.75313\n",
      "Epoch 4/10\n",
      "8636/8636 [==============================] - 38s 4ms/step - loss: 0.4292 - acc: 0.8051 - val_loss: 0.4717 - val_acc: 0.7521\n",
      "\n",
      "Epoch 00004: val_acc did not improve from 0.75313\n",
      "Epoch 5/10\n",
      "8636/8636 [==============================] - 38s 4ms/step - loss: 0.4078 - acc: 0.8218 - val_loss: 0.4667 - val_acc: 0.7615\n",
      "\n",
      "Epoch 00005: val_acc improved from 0.75313 to 0.76146, saving model to ../model/cnn-weights-improvement-05-0.7615.hdf5\n",
      "Epoch 6/10\n",
      "8636/8636 [==============================] - 46s 5ms/step - loss: 0.3912 - acc: 0.8236 - val_loss: 0.4641 - val_acc: 0.7552\n",
      "\n",
      "Epoch 00006: val_acc did not improve from 0.76146\n",
      "Epoch 7/10\n",
      "8636/8636 [==============================] - 44s 5ms/step - loss: 0.3749 - acc: 0.8363 - val_loss: 0.4604 - val_acc: 0.7656\n",
      "\n",
      "Epoch 00007: val_acc improved from 0.76146 to 0.76563, saving model to ../model/cnn-weights-improvement-07-0.7656.hdf5\n",
      "Epoch 8/10\n",
      "8636/8636 [==============================] - 40s 5ms/step - loss: 0.3552 - acc: 0.8477 - val_loss: 0.4558 - val_acc: 0.7667\n",
      "\n",
      "Epoch 00008: val_acc improved from 0.76563 to 0.76667, saving model to ../model/cnn-weights-improvement-08-0.7667.hdf5\n",
      "Epoch 9/10\n",
      "8636/8636 [==============================] - 40s 5ms/step - loss: 0.3444 - acc: 0.8577 - val_loss: 0.4530 - val_acc: 0.7740\n",
      "\n",
      "Epoch 00009: val_acc improved from 0.76667 to 0.77396, saving model to ../model/cnn-weights-improvement-09-0.7740.hdf5\n",
      "Epoch 10/10\n",
      "8636/8636 [==============================] - 40s 5ms/step - loss: 0.3265 - acc: 0.8672 - val_loss: 0.4503 - val_acc: 0.7708\n",
      "\n",
      "Epoch 00010: val_acc did not improve from 0.77396\n"
     ]
    }
   ],
   "source": [
    "filepath = \"../model/cnn-weights-improvement-{epoch:02d}-{val_acc:.4f}.hdf5\"\n",
    "checkpoint = ModelCheckpoint(filepath, monitor='val_acc', verbose=1, save_best_only=True, mode='max')\n",
    "\n",
    "batch_size = 256\n",
    "epochs = 10\n",
    "\n",
    "history = cnn_model_multi_channel.fit(x=padded_train_sequences,\n",
    "                                      y=y_train,\n",
    "                            validation_data=(padded_dev_sequences, y_dev),\n",
    "                                      batch_size=batch_size,\n",
    "                                      callbacks=[checkpoint],\n",
    "                                      epochs=epochs,\n",
    "                                      verbose=1)"
   ]
  },
  {
   "cell_type": "markdown",
   "metadata": {},
   "source": [
    "### 导入 cnn_model 中最好的一个，进行预测"
   ]
  },
  {
   "cell_type": "code",
   "execution_count": 38,
   "metadata": {},
   "outputs": [
    {
     "name": "stdout",
     "output_type": "stream",
     "text": [
      "1066/1066 [==============================] - 1s 1ms/step\n"
     ]
    },
    {
     "data": {
      "text/plain": [
       "0.776735459662289"
      ]
     },
     "execution_count": 38,
     "metadata": {},
     "output_type": "execute_result"
    }
   ],
   "source": [
    "best_cnn_model = load_model('../model/cnn-weights-improvement-09-0.7740.hdf5')\n",
    "\n",
    "y_pred_cnn_multi_channel = best_cnn_model.predict(padded_test_sequences, verbose=1, batch_size=128)\n",
    "\n",
    "y_pred_cnn_multi_channel = pd.DataFrame(y_pred_cnn_multi_channel, columns=['prediction'])\n",
    "y_pred_cnn_multi_channel['prediction'] = y_pred_cnn_multi_channel['prediction'].map(lambda p: 1 if p >= 0.5 else 0)\n",
    "y_pred_cnn_multi_channel.to_csv('../model/y_pred_cnn_multi_channel.csv', index=False)\n",
    "\n",
    "y_pred_cnn_multi_channel = pd.read_csv('../model/y_pred_cnn_multi_channel.csv')\n",
    "accuracy_score(y_test, y_pred_cnn_multi_channel)"
   ]
  },
  {
   "cell_type": "markdown",
   "metadata": {},
   "source": [
    "## 7. RCNN"
   ]
  },
  {
   "cell_type": "code",
   "execution_count": 57,
   "metadata": {},
   "outputs": [],
   "source": [
    "def get_rnn_cnn_model():\n",
    "    \n",
    "    embedding_dim = 300\n",
    "    \n",
    "    inp = Input(shape=(MAX_LENGTH,))\n",
    "    \n",
    "    x = Embedding(MAX_NB_WORDS, embedding_dim, weights=[embedding_matrix], \n",
    "input_length=MAX_LENGTH, trainable=True)(inp)\n",
    "    \n",
    "    x = SpatialDropout1D(0.3)(x)\n",
    "    \n",
    "    x = Bidirectional(GRU(100, return_sequences=True))(x)\n",
    "    \n",
    "    x = Conv1D(64, kernel_size=2, padding=\"valid\", kernel_initializer=\"he_uniform\")(x)\n",
    "    \n",
    "    avg_pool = GlobalAveragePooling1D()(x)\n",
    "    max_pool = GlobalMaxPooling1D()(x)\n",
    "    \n",
    "    conc = concatenate([avg_pool, max_pool])\n",
    "    outp = Dense(1, activation=\"sigmoid\")(conc)\n",
    "\n",
    "    model = Model(inputs=inp, outputs=outp)\n",
    "    model.compile(loss='binary_crossentropy',\n",
    "                  optimizer='adam',\n",
    "                  metrics=['accuracy'])\n",
    "    return model\n",
    "\n",
    "\n",
    "rnn_cnn_model = get_rnn_cnn_model()"
   ]
  },
  {
   "cell_type": "code",
   "execution_count": 58,
   "metadata": {
    "scrolled": true
   },
   "outputs": [
    {
     "name": "stdout",
     "output_type": "stream",
     "text": [
      "Train on 8636 samples, validate on 960 samples\n",
      "Epoch 1/6\n",
      "8636/8636 [==============================] - 27s 3ms/step - loss: 0.6293 - acc: 0.6467 - val_loss: 0.5179 - val_acc: 0.7490\n",
      "\n",
      "Epoch 00001: val_acc improved from -inf to 0.74896, saving model to ../model/rcnn-drop0.2-weights-improvement-01-0.7490.hdf5\n",
      "Epoch 2/6\n",
      "8636/8636 [==============================] - 24s 3ms/step - loss: 0.4662 - acc: 0.7808 - val_loss: 0.4667 - val_acc: 0.7844\n",
      "\n",
      "Epoch 00002: val_acc improved from 0.74896 to 0.78438, saving model to ../model/rcnn-drop0.2-weights-improvement-02-0.7844.hdf5\n",
      "Epoch 3/6\n",
      "8636/8636 [==============================] - 24s 3ms/step - loss: 0.3705 - acc: 0.8370 - val_loss: 0.4452 - val_acc: 0.7990\n",
      "\n",
      "Epoch 00003: val_acc improved from 0.78438 to 0.79896, saving model to ../model/rcnn-drop0.2-weights-improvement-03-0.7990.hdf5\n",
      "Epoch 4/6\n",
      "8636/8636 [==============================] - 23s 3ms/step - loss: 0.2956 - acc: 0.8715 - val_loss: 0.4754 - val_acc: 0.7865\n",
      "\n",
      "Epoch 00004: val_acc did not improve from 0.79896\n",
      "Epoch 5/6\n",
      "8636/8636 [==============================] - 22s 3ms/step - loss: 0.2204 - acc: 0.9104 - val_loss: 0.5008 - val_acc: 0.7896\n",
      "\n",
      "Epoch 00005: val_acc did not improve from 0.79896\n",
      "Epoch 6/6\n",
      "8636/8636 [==============================] - 24s 3ms/step - loss: 0.1598 - acc: 0.9414 - val_loss: 0.5773 - val_acc: 0.7844\n",
      "\n",
      "Epoch 00006: val_acc did not improve from 0.79896\n"
     ]
    }
   ],
   "source": [
    "filepath = \"../model/rcnn-weights-improvement-{epoch:02d}-{val_acc:.4f}.hdf5\"\n",
    "checkpoint = ModelCheckpoint(filepath, monitor='val_acc', verbose=1, \n",
    "save_best_only=True, mode='max')\n",
    "\n",
    "batch_size = 256\n",
    "epochs = 6\n",
    "\n",
    "history = rnn_cnn_model.fit(x=padded_train_sequences,\n",
    "                            y=y_train,\n",
    "                            validation_data=(padded_dev_sequences, y_dev),\n",
    "                            batch_size=batch_size,\n",
    "                            callbacks=[checkpoint],\n",
    "                            epochs=epochs,\n",
    "                            verbose=1)"
   ]
  },
  {
   "cell_type": "markdown",
   "metadata": {},
   "source": [
    "###  导入 rnn_cnn_model 中最好的一个，进行预测"
   ]
  },
  {
   "cell_type": "markdown",
   "metadata": {},
   "source": [
    "### test , padded_test_sequences"
   ]
  },
  {
   "cell_type": "code",
   "execution_count": 49,
   "metadata": {},
   "outputs": [
    {
     "name": "stdout",
     "output_type": "stream",
     "text": [
      "1066/1066 [==============================] - 2s 2ms/step\n"
     ]
    },
    {
     "data": {
      "text/plain": [
       "0.8123827392120075"
      ]
     },
     "execution_count": 49,
     "metadata": {},
     "output_type": "execute_result"
    }
   ],
   "source": [
    "best_rnn_cnn_model = load_model('../model/rcnn-weights-improvement-04-0.8167.hdf5')\n",
    "y_pred_rnn_cnn = best_rnn_cnn_model.predict(padded_test_sequences, verbose=1, batch_size=128)\n",
    "\n",
    "y_pred_rnn_cnn = pd.DataFrame(y_pred_rnn_cnn, columns=['prediction'])\n",
    "y_pred_rnn_cnn['prediction'] = y_pred_rnn_cnn['prediction'].map(lambda p: 1 if p >= 0.5 else 0)\n",
    "y_pred_rnn_cnn.to_csv('../model/y_pred_rnn_cnn.csv', index=False)\n",
    "\n",
    "y_pred_rnn_cnn = pd.read_csv('../model/y_pred_rnn_cnn.csv')\n",
    "accuracy_score(y_test, y_pred_rnn_cnn)"
   ]
  },
  {
   "cell_type": "code",
   "execution_count": null,
   "metadata": {},
   "outputs": [],
   "source": []
  }
 ],
 "metadata": {
  "kernelspec": {
   "display_name": "Python 3",
   "language": "python",
   "name": "python3"
  },
  "language_info": {
   "codemirror_mode": {
    "name": "ipython",
    "version": 3
   },
   "file_extension": ".py",
   "mimetype": "text/x-python",
   "name": "python",
   "nbconvert_exporter": "python",
   "pygments_lexer": "ipython3",
   "version": "3.5.4"
  }
 },
 "nbformat": 4,
 "nbformat_minor": 2
}
